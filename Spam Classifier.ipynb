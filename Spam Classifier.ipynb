{
 "cells": [
  {
   "cell_type": "code",
   "execution_count": 1,
   "id": "91f8c2ec",
   "metadata": {},
   "outputs": [],
   "source": [
    "import os\n",
    "import tarfile\n",
    "import urllib.request"
   ]
  },
  {
   "cell_type": "code",
   "execution_count": 2,
   "id": "62485502",
   "metadata": {},
   "outputs": [],
   "source": [
    "ROOT_URL = \"https://spamassassin.apache.org/old/publiccorpus/\"\n",
    "HAM_URL = ROOT_URL + \"20030228_easy_ham.tar.bz2\"\n",
    "SPAM_URL = ROOT_URL + \"20030228_spam.tar.bz2\"\n",
    "SPAM_PATH = os.path.join(\"datsets\", \"spam\")"
   ]
  },
  {
   "cell_type": "code",
   "execution_count": null,
   "id": "3bbc6802",
   "metadata": {},
   "outputs": [],
   "source": [
    "def fetch_spam_data(ham_url = HAM_URL, spam_URL=SPAM_URL, spam_path=SPAM_PATH):\n",
    "    if not os.path.isdir(spam_path):\n",
    "        os.makedirs(spam_path)\n",
    "    \n",
    "    for filename, url in (('ham.tar.bz2', ham_url), ('spam.tar.bz2', spam_url)):\n",
    "        path = os.path.join(spam_path, filename)\n",
    "        if not os.path.isfile(path):\n",
    "            urllib.request.urlretrieve(url, path)"
   ]
  }
 ],
 "metadata": {
  "kernelspec": {
   "display_name": "Python 3 (ipykernel)",
   "language": "python",
   "name": "python3"
  },
  "language_info": {
   "codemirror_mode": {
    "name": "ipython",
    "version": 3
   },
   "file_extension": ".py",
   "mimetype": "text/x-python",
   "name": "python",
   "nbconvert_exporter": "python",
   "pygments_lexer": "ipython3",
   "version": "3.9.13"
  }
 },
 "nbformat": 4,
 "nbformat_minor": 5
}
